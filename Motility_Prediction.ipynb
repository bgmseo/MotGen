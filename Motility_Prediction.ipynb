{
  "cells": [
    {
      "cell_type": "markdown",
      "metadata": {
        "id": "view-in-github",
        "colab_type": "text"
      },
      "source": [
        "<a href=\"https://colab.research.google.com/github/bgmseo/MotGen/blob/main/Motility_Prediction.ipynb\" target=\"_parent\"><img src=\"https://colab.research.google.com/assets/colab-badge.svg\" alt=\"Open In Colab\"/></a>"
      ]
    },
    {
      "cell_type": "code",
      "execution_count": null,
      "id": "43c58802",
      "metadata": {
        "id": "43c58802"
      },
      "outputs": [],
      "source": [
        "import torch\n",
        "import torch.nn as nn\n",
        "import torch.optim as optim\n",
        "from torch.autograd import Variable\n",
        "\n",
        "import numpy as np\n",
        "import matplotlib.pyplot as plt\n",
        "from mpl_toolkits.mplot3d import axes3d\n",
        "\n",
        "import os"
      ]
    },
    {
      "cell_type": "code",
      "execution_count": null,
      "id": "41e54945",
      "metadata": {
        "id": "41e54945"
      },
      "outputs": [],
      "source": [
        "device = torch.device('cuda' if torch.cuda.is_available() else 'cpu')\n",
        "\n",
        "torch.set_printoptions(sci_mode=False)\n",
        "batch_size = 128\n",
        "workers = 0"
      ]
    },
    {
      "cell_type": "code",
      "execution_count": null,
      "id": "9f9ca4be",
      "metadata": {
        "id": "9f9ca4be"
      },
      "outputs": [],
      "source": [
        "### class needed before model called\n",
        "latent_dim = 100\n",
        "output_dim = 10\n",
        "class Generator(nn.Module):\n",
        "    def __init__(self):\n",
        "        super(Generator, self).__init__()\n",
        "        n = 300\n",
        "        self.l1 = nn.Linear(latent_dim+2,n)\n",
        "        self.l2 = nn.Linear(n,n)\n",
        "        self.l3 = nn.Linear(n,n)\n",
        "        self.l4 = nn.Linear(n,n)\n",
        "        self.l5 = nn.Linear(n,n)\n",
        "        self.l6 = nn.Linear(n,n)\n",
        "        self.l7 = nn.Linear(n,n)\n",
        "        self.l8 = nn.Linear(n,n)\n",
        "        self.l9 = nn.Linear(n,output_dim)\n",
        "        self.activation = nn.LeakyReLU(negative_slope=0.1)\n",
        "\n",
        "        self.bn2 = nn.BatchNorm1d(n)\n",
        "        self.bn3 = nn.BatchNorm1d(n)\n",
        "        self.bn4 = nn.BatchNorm1d(n)\n",
        "        self.bn5 = nn.BatchNorm1d(n)\n",
        "        self.bn6 = nn.BatchNorm1d(n)\n",
        "        self.bn7 = nn.BatchNorm1d(n)\n",
        "        self.bn8 = nn.BatchNorm1d(n)\n",
        "\n",
        "    def forward(self, x):\n",
        "        x = x.view(-1, latent_dim+2)\n",
        "        x = self.activation(self.l1(x))\n",
        "        x = self.bn2(self.activation(self.l2(x)))\n",
        "        x = self.bn3(self.activation(self.l3(x)))\n",
        "        x = self.bn4(self.activation(self.l4(x)))\n",
        "        x = self.bn5(self.activation(self.l5(x)))\n",
        "        x = self.bn6(self.activation(self.l6(x)))\n",
        "        x = self.bn7(self.activation(self.l7(x)))\n",
        "        x = self.bn8(self.activation(self.l8(x)))\n",
        "        return self.l9(x)\n",
        "\n",
        "class Discriminator(nn.Module):\n",
        "    def __init__(self):\n",
        "        super(Discriminator, self).__init__()\n",
        "        n = 300\n",
        "        self.l1 = nn.Linear(output_dim+2,n)\n",
        "        self.l2 = nn.Linear(n,n)\n",
        "        self.l3 = nn.Linear(n,n)\n",
        "        self.l4 = nn.Linear(n,n)\n",
        "        self.l5 = nn.Linear(n,n)\n",
        "        self.l6 = nn.Linear(n,n)\n",
        "        self.l7 = nn.Linear(n,n)\n",
        "        self.l8 = nn.Linear(n,n)\n",
        "        self.l9 = nn.Linear(n,1)\n",
        "        self.activation = nn.LeakyReLU(negative_slope=0.1)\n",
        "\n",
        "    def forward(self, x):\n",
        "        x = self.activation(self.l1(x))\n",
        "        x = self.activation(self.l2(x))\n",
        "        x = self.activation(self.l3(x))\n",
        "        x = self.activation(self.l4(x))\n",
        "        x = self.activation(self.l5(x))\n",
        "        x = self.activation(self.l6(x))\n",
        "        x = self.activation(self.l7(x))\n",
        "        x = self.activation(self.l8(x))\n",
        "        return torch.sigmoid(self.l9(x))\n",
        ""
      ]
    },
    {
      "cell_type": "markdown",
      "source": [
        "Load trained models"
      ],
      "metadata": {
        "id": "cNL1jMe-ZByb"
      },
      "id": "cNL1jMe-ZByb"
    },
    {
      "cell_type": "code",
      "execution_count": null,
      "id": "660d5bc8",
      "metadata": {
        "id": "660d5bc8",
        "outputId": "2f811df7-d1e0-4c07-cc90-22260f5add8d"
      },
      "outputs": [
        {
          "data": {
            "text/plain": [
              "Discriminator(\n",
              "  (l1): Linear(in_features=12, out_features=300, bias=True)\n",
              "  (l2): Linear(in_features=300, out_features=300, bias=True)\n",
              "  (l3): Linear(in_features=300, out_features=300, bias=True)\n",
              "  (l4): Linear(in_features=300, out_features=300, bias=True)\n",
              "  (l5): Linear(in_features=300, out_features=300, bias=True)\n",
              "  (l6): Linear(in_features=300, out_features=300, bias=True)\n",
              "  (l7): Linear(in_features=300, out_features=300, bias=True)\n",
              "  (l8): Linear(in_features=300, out_features=300, bias=True)\n",
              "  (l9): Linear(in_features=300, out_features=1, bias=True)\n",
              "  (activation): LeakyReLU(negative_slope=0.1)\n",
              ")"
            ]
          },
          "execution_count": 4,
          "metadata": {},
          "output_type": "execute_result"
        }
      ],
      "source": [
        "\n",
        "G = torch.load('./models/GG_final')\n",
        "D = torch.load('./models/DD_final')\n",
        "G.eval()\n",
        "D.eval()"
      ]
    },
    {
      "cell_type": "code",
      "execution_count": null,
      "id": "5010efea",
      "metadata": {
        "id": "5010efea"
      },
      "outputs": [],
      "source": [
        "#labels used for training\n",
        "env_map2 = torch.load('./env_map2')"
      ]
    },
    {
      "cell_type": "code",
      "execution_count": null,
      "id": "62d8664c",
      "metadata": {
        "id": "62d8664c"
      },
      "outputs": [],
      "source": [
        "# normalize\n",
        "def solvex(x,u,s):\n",
        "    output = ((x-u)/s)\n",
        "    return output\n",
        "\n",
        "#  denormalization\n",
        "def invsolve(x,u,s):\n",
        "    element = (x*s)+u\n",
        "    return element"
      ]
    },
    {
      "cell_type": "markdown",
      "source": [
        "########### user parameters for desired environments #############\n",
        "- Must set current motility values and desired motility features to get appropraite environmental settings!\n"
      ],
      "metadata": {
        "id": "VwW5K4viZLUl"
      },
      "id": "VwW5K4viZLUl"
    },
    {
      "cell_type": "code",
      "execution_count": null,
      "id": "9e19be19",
      "metadata": {
        "id": "9e19be19",
        "outputId": "38c6b47c-fa3d-49ab-8578-d8cf41adaa7c"
      },
      "outputs": [
        {
          "name": "stdout",
          "output_type": "stream",
          "text": [
            "[0.30044808, 33.67111]\n"
          ]
        }
      ],
      "source": [
        "########### user parameters for desired environments #############\n",
        "\n",
        "PH0 = 6.9\n",
        "temp0 = 27.0\n",
        "\n",
        "\n",
        "control_motility_idx = [4,8] ## motility parameter indices to control\n",
        "\n",
        "\n",
        "motility0 = [0.2787, 37.7251]     ## current experimental motility values\n",
        "motility_d = [0.2503734*1.2, 30.6101*1.1] ## desired motility values\n",
        "print(motility_d)"
      ]
    },
    {
      "cell_type": "code",
      "execution_count": null,
      "id": "e9624fc6",
      "metadata": {
        "id": "e9624fc6"
      },
      "outputs": [],
      "source": [
        "### normalize inputs (PH & temp.)\n",
        "mean = env_map2[:,0]\n",
        "std = env_map2[:,1]\n",
        "\n",
        "PH0_normalized = solvex(PH0, mean[0], std[0])\n",
        "temp0_normalized = solvex(temp0, mean[1], std[1])\n",
        "\n",
        "x0 = torch.Tensor([PH0_normalized, temp0_normalized])\n",
        "x0 = nn.Parameter(x0)"
      ]
    },
    {
      "cell_type": "code",
      "execution_count": null,
      "id": "3459c3df",
      "metadata": {
        "id": "3459c3df",
        "outputId": "62de4bbb-53fe-4850-e944-f64718c20582"
      },
      "outputs": [
        {
          "name": "stdout",
          "output_type": "stream",
          "text": [
            "tensor([0.2082, 0.3239]) tensor([0.3220, 0.1295]) tensor([ 0.1138, -0.1944])\n"
          ]
        }
      ],
      "source": [
        "## define y0\n",
        "y00 = solvex(motility0[0], mean[control_motility_idx[0]+2], std[control_motility_idx[0]+2])\n",
        "y01 = solvex(motility0[1], mean[control_motility_idx[1]+2], std[control_motility_idx[1]+2])\n",
        "\n",
        "y0 = torch.Tensor([y00, y01])\n",
        "\n",
        "\n",
        "## define y_d\n",
        "y_d0 = solvex(motility_d[0], mean[control_motility_idx[0]+2], std[control_motility_idx[0]+2])\n",
        "y_d1 = solvex(motility_d[1], mean[control_motility_idx[1]+2], std[control_motility_idx[1]+2])\n",
        "\n",
        "y_d = torch.Tensor([y_d0, y_d1])\n",
        "print(y0, y_d, y_d - y0)"
      ]
    },
    {
      "cell_type": "code",
      "execution_count": null,
      "id": "4ff69542",
      "metadata": {
        "id": "4ff69542"
      },
      "outputs": [],
      "source": [
        "## generator input samples\n",
        "nSample = 10000\n",
        "\n",
        "ginput_test =torch.cat([x0.repeat(nSample,1), torch.randn(nSample,latent_dim)],dim=1).float().to(device)\n"
      ]
    },
    {
      "cell_type": "code",
      "execution_count": null,
      "id": "ced384c3",
      "metadata": {
        "id": "ced384c3",
        "outputId": "80bb5ed6-7b14-474c-a4be-cf4d7c508da5"
      },
      "outputs": [
        {
          "name": "stdout",
          "output_type": "stream",
          "text": [
            "tensor([0.2032, 0.1649], device='cuda:0', grad_fn=<MeanBackward1>)\n",
            "[0.27775353563711125, 34.40982092541972]\n"
          ]
        }
      ],
      "source": [
        "## generator output 계산\n",
        "goutput = G(ginput_test)\n",
        "\n",
        "y0_est = goutput[:, control_motility_idx].mean(dim=0)\n",
        "print(y0_est)\n",
        "y0_est0 = invsolve(y0_est[0], mean[control_motility_idx[0]+2], std[control_motility_idx[0]+2])\n",
        "y0_est1 = invsolve(y0_est[1], mean[control_motility_idx[1]+2], std[control_motility_idx[1]+2])\n",
        "print([y0_est0.item(), y0_est1.item()])"
      ]
    },
    {
      "cell_type": "code",
      "execution_count": null,
      "id": "19219323",
      "metadata": {
        "id": "19219323",
        "outputId": "07592c01-39ee-4b37-9b8f-d7739990741a"
      },
      "outputs": [
        {
          "name": "stdout",
          "output_type": "stream",
          "text": [
            "tensor([-0.1197, -0.0007])\n"
          ]
        }
      ],
      "source": [
        "optimizer = optim.Adam([x0], lr=0.00001, weight_decay=0.000001)\n",
        "optimizer.zero_grad()\n",
        "\n",
        "y0_est[0].backward()\n",
        "\n",
        "print(x0.grad)\n",
        "J0 = x0.grad.clone() # Jacobian row 1"
      ]
    },
    {
      "cell_type": "code",
      "execution_count": null,
      "id": "8efc3ae6",
      "metadata": {
        "id": "8efc3ae6",
        "outputId": "b08fbf20-3419-4081-c1b9-55645f0b98fd"
      },
      "outputs": [
        {
          "name": "stdout",
          "output_type": "stream",
          "text": [
            "tensor([0.2032, 0.1649], device='cuda:0', grad_fn=<MeanBackward1>)\n"
          ]
        }
      ],
      "source": [
        "## generator output calculation\n",
        "goutput = G(ginput_test)\n",
        "\n",
        "y0_est = goutput[:, control_motility_idx].mean(dim=0)\n",
        "print(y0_est)"
      ]
    },
    {
      "cell_type": "code",
      "execution_count": null,
      "id": "76a6807e",
      "metadata": {
        "id": "76a6807e",
        "outputId": "b25edc4f-291b-44d5-aa3d-4ae4ed3f6bd6"
      },
      "outputs": [
        {
          "name": "stdout",
          "output_type": "stream",
          "text": [
            "tensor([-0.0934, -0.1156])\n"
          ]
        }
      ],
      "source": [
        "optimizer = optim.Adam([x0], lr=0.00001, weight_decay=0.000001)\n",
        "optimizer.zero_grad()\n",
        "\n",
        "y0_est[1].backward()\n",
        "\n",
        "print(x0.grad)\n",
        "J1 = x0.grad # Jacobian row 2"
      ]
    },
    {
      "cell_type": "code",
      "execution_count": null,
      "id": "60be5860",
      "metadata": {
        "id": "60be5860"
      },
      "outputs": [],
      "source": [
        "## Jacobian and its inverse\n",
        "J = torch.cat([J0.view(1,2), J1.view(1,2)], dim=0)\n",
        "\n",
        "# regularization\n",
        "if torch.linalg.cond(J) < 1e-3:\n",
        "    J[0,0] += 1e-3\n",
        "    J[1,1] += 1e-3\n",
        "    print('Regularized!')\n",
        "invJ = torch.linalg.inv(J)"
      ]
    },
    {
      "cell_type": "markdown",
      "source": [
        "Final envrionemental settings!"
      ],
      "metadata": {
        "id": "t2fIS2UJZgW1"
      },
      "id": "t2fIS2UJZgW1"
    },
    {
      "cell_type": "code",
      "execution_count": null,
      "id": "844b3449",
      "metadata": {
        "scrolled": true,
        "id": "844b3449",
        "outputId": "867eca24-158d-496f-f9ab-84c0bfd3d10e"
      },
      "outputs": [
        {
          "name": "stdout",
          "output_type": "stream",
          "text": [
            "[6.899999989736983, 27.00000010098188]\n"
          ]
        }
      ],
      "source": [
        "## compute target PH and temp\n",
        "stepsize = 0.\n",
        "x = x0.detach() + stepsize * torch.matmul(invJ, (y_d - y0).view(2,1)).view(2)\n",
        "\n",
        "PH1 = (x[0] * std[0] + mean[0]).item()\n",
        "temp1 = (x[1] * std[1] + mean[1]).item()\n",
        "\n",
        "print([PH1, temp1])"
      ]
    }
  ],
  "metadata": {
    "kernelspec": {
      "display_name": "Python 3 (ipykernel)",
      "language": "python",
      "name": "python3"
    },
    "language_info": {
      "codemirror_mode": {
        "name": "ipython",
        "version": 3
      },
      "file_extension": ".py",
      "mimetype": "text/x-python",
      "name": "python",
      "nbconvert_exporter": "python",
      "pygments_lexer": "ipython3",
      "version": "3.7.10"
    },
    "colab": {
      "provenance": [],
      "include_colab_link": true
    }
  },
  "nbformat": 4,
  "nbformat_minor": 5
}
{
  "cells": [
    {
      "cell_type": "markdown",
      "metadata": {
        "id": "view-in-github",
        "colab_type": "text"
      },
      "source": [
        "<a href=\"https://colab.research.google.com/github/bgmseo/MotGen/blob/main/generatemotility.ipynb\" target=\"_parent\"><img src=\"https://colab.research.google.com/assets/colab-badge.svg\" alt=\"Open In Colab\"/></a>"
      ]
    },
    {
      "cell_type": "code",
      "execution_count": null,
      "id": "43c58802",
      "metadata": {
        "id": "43c58802"
      },
      "outputs": [],
      "source": [
        "import torch\n",
        "import torch.nn as nn\n",
        "import torch.optim as optim\n",
        "from torch.autograd import Variable\n",
        "\n",
        "import numpy as np\n",
        "import matplotlib.pyplot as plt\n",
        "from mpl_toolkits.mplot3d import axes3d\n",
        "\n",
        "import os\n",
        "import seaborn as sns\n",
        "\n",
        "import warnings\n",
        "warnings.filterwarnings(\"ignore\")\n"
      ]
    },
    {
      "cell_type": "code",
      "execution_count": null,
      "id": "41e54945",
      "metadata": {
        "id": "41e54945"
      },
      "outputs": [],
      "source": [
        "device = torch.device('cuda' if torch.cuda.is_available() else 'cpu')\n",
        "\n",
        "torch.set_printoptions(sci_mode=False)\n",
        "batch_size = 128\n",
        "workers = 0"
      ]
    },
    {
      "cell_type": "code",
      "execution_count": null,
      "id": "9f9ca4be",
      "metadata": {
        "id": "9f9ca4be"
      },
      "outputs": [],
      "source": [
        "### class needed before model called\n",
        "latent_dim = 100\n",
        "output_dim = 10\n",
        "class Generator(nn.Module):\n",
        "    def __init__(self):\n",
        "        super(Generator, self).__init__()\n",
        "        n = 300\n",
        "        self.l1 = nn.Linear(latent_dim+2,n)\n",
        "        self.l2 = nn.Linear(n,n)\n",
        "        self.l3 = nn.Linear(n,n)\n",
        "        self.l4 = nn.Linear(n,n)\n",
        "        self.l5 = nn.Linear(n,n)\n",
        "        self.l6 = nn.Linear(n,n)\n",
        "        self.l7 = nn.Linear(n,n)\n",
        "        self.l8 = nn.Linear(n,n)\n",
        "        self.l9 = nn.Linear(n,output_dim)\n",
        "        self.activation = nn.LeakyReLU(negative_slope=0.1)\n",
        "\n",
        "        self.bn2 = nn.BatchNorm1d(n)\n",
        "        self.bn3 = nn.BatchNorm1d(n)\n",
        "        self.bn4 = nn.BatchNorm1d(n)\n",
        "        self.bn5 = nn.BatchNorm1d(n)\n",
        "        self.bn6 = nn.BatchNorm1d(n)\n",
        "        self.bn7 = nn.BatchNorm1d(n)\n",
        "        self.bn8 = nn.BatchNorm1d(n)\n",
        "\n",
        "    def forward(self, x):\n",
        "        x = x.view(-1, latent_dim+2)\n",
        "        x = self.activation(self.l1(x))\n",
        "        x = self.bn2(self.activation(self.l2(x)))\n",
        "        x = self.bn3(self.activation(self.l3(x)))\n",
        "        x = self.bn4(self.activation(self.l4(x)))\n",
        "        x = self.bn5(self.activation(self.l5(x)))\n",
        "        x = self.bn6(self.activation(self.l6(x)))\n",
        "        x = self.bn7(self.activation(self.l7(x)))\n",
        "        x = self.bn8(self.activation(self.l8(x)))\n",
        "        return self.l9(x)\n",
        "\n",
        "\n",
        "\n",
        "class Discriminator(nn.Module):\n",
        "    def __init__(self):\n",
        "        super(Discriminator, self).__init__()\n",
        "        n = 300\n",
        "        self.l1 = nn.Linear(output_dim+2,n)\n",
        "        self.l2 = nn.Linear(n,n)\n",
        "        self.l3 = nn.Linear(n,n)\n",
        "        self.l4 = nn.Linear(n,n)\n",
        "        self.l5 = nn.Linear(n,n)\n",
        "        self.l6 = nn.Linear(n,n)\n",
        "        self.l7 = nn.Linear(n,n)\n",
        "        self.l8 = nn.Linear(n,n)\n",
        "        self.l9 = nn.Linear(n,1)\n",
        "        self.activation = nn.LeakyReLU(negative_slope=0.1)\n",
        "\n",
        "    def forward(self, x):\n",
        "        x = self.activation(self.l1(x))\n",
        "        x = self.activation(self.l2(x))\n",
        "        x = self.activation(self.l3(x))\n",
        "        x = self.activation(self.l4(x))\n",
        "        x = self.activation(self.l5(x))\n",
        "        x = self.activation(self.l6(x))\n",
        "#         x = self.activation(self.l7(x))\n",
        "#         x = self.activation(self.l8(x))\n",
        "        return torch.sigmoid(self.l9(x))\n"
      ]
    },
    {
      "cell_type": "code",
      "execution_count": null,
      "id": "660d5bc8",
      "metadata": {
        "id": "660d5bc8"
      },
      "outputs": [],
      "source": [
        "# G = torch.load('./models/GGG_final')\n",
        "# D = torch.load('./models/DDD_final')\n",
        "# G.eval()\n",
        "# D.eval()"
      ]
    },
    {
      "cell_type": "code",
      "execution_count": null,
      "id": "5010efea",
      "metadata": {
        "id": "5010efea"
      },
      "outputs": [],
      "source": [
        "#Environmental settings (Must be laoded)\n",
        "env_map2 = torch.load('./env_map2')"
      ]
    },
    {
      "cell_type": "code",
      "execution_count": null,
      "id": "9928d74a",
      "metadata": {
        "id": "9928d74a"
      },
      "outputs": [],
      "source": [
        "x, y = np.meshgrid([25, 37, 45], [5,6,7,8])\n",
        "x3 = np.mat([[6.5, 6.9],[35, 27]])\n",
        "\n",
        "env_map = np.zeros([12,2])\n",
        "\n",
        "env_map[:,0] = y.reshape(-1)  # PH in 1st column\n",
        "env_map[:,1] = x.reshape(-1)  # degree in 2nd column\n",
        "\n",
        "env_mapT = np.zeros([2,2])\n",
        "env_mapT[:,0] = x3[0,:].reshape(-1)  # PH in 1st column\n",
        "env_mapT[:,1] = x3[1,:].reshape(-1)  # degree in 2nd column\n"
      ]
    },
    {
      "cell_type": "code",
      "execution_count": null,
      "id": "4a26e0b5",
      "metadata": {
        "id": "4a26e0b5"
      },
      "outputs": [],
      "source": [
        "# print(files)"
      ]
    },
    {
      "cell_type": "code",
      "execution_count": null,
      "id": "39be1cff",
      "metadata": {
        "id": "39be1cff",
        "outputId": "ca838a3b-a5ad-45bc-f04b-4f554dfb1c2b"
      },
      "outputs": [
        {
          "name": "stdout",
          "output_type": "stream",
          "text": [
            "tensor([  6.9000,  27.0000,  35.3008, 117.3082, 171.9520,  30.4736,   0.2668,\n",
            "         18.0243,  11.3222,   0.4085,  28.0683, 204.7236], device='cuda:0')\n",
            "torch.Size([744, 10])\n"
          ]
        }
      ],
      "source": [
        "## Loading verification data\n",
        "root_path = './data/test'\n",
        "files = [dI for dI in os.listdir(root_path) if os.path.isfile(os.path.join(root_path, dI))]\n",
        "\n",
        "N = len(files)\n",
        "\n",
        "activity_data = list()\n",
        "env_data = list()\n",
        "\n",
        "\n",
        "for i in range(N):\n",
        "    matrix = np.loadtxt(root_path + '/' + files[i], delimiter=',') # load data txt for each experiment\n",
        "    num_all = len(matrix) # number of all detected bacterias\n",
        "\n",
        "    mov_idx = matrix[:, 8] == 1            # moving index\n",
        "    num_moving = mov_idx.sum()             # number of moving bacterias\n",
        "    mov_ratio = num_moving / num_all       # moving ratio\n",
        "    matrix = matrix[mov_idx, :]            # eliminating static bacterias\n",
        "    matrix[:, 8] = mov_ratio               # using moving ratio as input instead of moving index\n",
        "\n",
        "    matrix = matrix[:,[0,1,2,3,4,5,6,7,9,10]]  # 8th column excluded\n",
        "\n",
        "    activity_data.append(torch.Tensor(matrix))\n",
        "\n",
        "    env_matrix = np.zeros([num_moving, 2])\n",
        "\n",
        "    if int(files[i][1:3]) == \"69\":\n",
        "        env_matrix[:]=env_mapT[0]\n",
        "    else :\n",
        "        env_matrix[:]=env_mapT[1]\n",
        "\n",
        "    env_data.append(torch.Tensor(env_matrix))\n",
        "env_data = torch.cat(env_data).to(device)\n",
        "activity_data = torch.cat(activity_data).to(device)\n",
        "\n",
        "dataset = torch.cat([env_data,activity_data],dim=1)\n",
        "\n",
        "print(dataset.mean(axis=0))\n"
      ]
    },
    {
      "cell_type": "code",
      "execution_count": null,
      "id": "c09bb829",
      "metadata": {
        "id": "c09bb829"
      },
      "outputs": [],
      "source": [
        "# normalize\n",
        "def solvex(x,u,s):\n",
        "    output = ((x-u)/s)\n",
        "    return output\n",
        "\n",
        "#  denormalization\n",
        "def invsolve(x,u,s):\n",
        "    element = (x*s)+u\n",
        "    return element"
      ]
    },
    {
      "cell_type": "markdown",
      "source": [
        "Generate data in specific envrionmental conditions"
      ],
      "metadata": {
        "id": "ugY85gn-WPVG"
      },
      "id": "ugY85gn-WPVG"
    },
    {
      "cell_type": "code",
      "execution_count": null,
      "id": "7469c051",
      "metadata": {
        "colab": {
          "base_uri": "https://localhost:8080/",
          "height": 256
        },
        "id": "7469c051",
        "outputId": "998d1d2b-4ab0-4902-d993-470a8d45771f"
      },
      "outputs": [
        {
          "output_type": "error",
          "ename": "NameError",
          "evalue": "ignored",
          "traceback": [
            "\u001b[0;31m---------------------------------------------------------------------------\u001b[0m",
            "\u001b[0;31mNameError\u001b[0m                                 Traceback (most recent call last)",
            "\u001b[0;32m<ipython-input-1-d6ff868521f9>\u001b[0m in \u001b[0;36m<cell line: 2>\u001b[0;34m()\u001b[0m\n\u001b[1;32m      1\u001b[0m \u001b[0;31m### Create test data\u001b[0m\u001b[0;34m\u001b[0m\u001b[0;34m\u001b[0m\u001b[0m\n\u001b[0;32m----> 2\u001b[0;31m \u001b[0menv_np\u001b[0m \u001b[0;34m=\u001b[0m \u001b[0menv_map2\u001b[0m\u001b[0;34m\u001b[0m\u001b[0;34m\u001b[0m\u001b[0m\n\u001b[0m\u001b[1;32m      3\u001b[0m \u001b[0mraw2\u001b[0m \u001b[0;34m=\u001b[0m \u001b[0mtorch\u001b[0m\u001b[0;34m.\u001b[0m\u001b[0mtensor\u001b[0m\u001b[0;34m(\u001b[0m\u001b[0;34m[\u001b[0m\u001b[0;36m4.3\u001b[0m\u001b[0;34m]\u001b[0m\u001b[0;34m)\u001b[0m\u001b[0;34m\u001b[0m\u001b[0;34m\u001b[0m\u001b[0m\n\u001b[1;32m      4\u001b[0m \u001b[0mraw3\u001b[0m \u001b[0;34m=\u001b[0m \u001b[0mtorch\u001b[0m\u001b[0;34m.\u001b[0m\u001b[0mtensor\u001b[0m\u001b[0;34m(\u001b[0m\u001b[0;34m[\u001b[0m\u001b[0;36m36.9\u001b[0m\u001b[0;34m]\u001b[0m\u001b[0;34m)\u001b[0m\u001b[0;34m\u001b[0m\u001b[0;34m\u001b[0m\u001b[0m\n\u001b[1;32m      5\u001b[0m \u001b[0;34m\u001b[0m\u001b[0m\n",
            "\u001b[0;31mNameError\u001b[0m: name 'env_map2' is not defined"
          ]
        }
      ],
      "source": [
        "### Create test data\n",
        "env_np = env_map2\n",
        "raw2 = torch.tensor([4.3])\n",
        "raw3 = torch.tensor([36.9])\n",
        "\n",
        "x = solvex(raw2,env_np[0,0],env_np[0,1])\n",
        "y = solvex(raw3,env_np[1,0],env_np[1,1])\n",
        "\n",
        "n_input = torch.cat([x, y] ,dim=0)\n",
        "\n",
        "### set how mnay datasets user want (idx = #)\n",
        "idx = dataset.size(0)-100\n",
        "new_input = n_input.repeat(idx,1)\n",
        "ginput_test =torch.cat([new_input,torch.randn(idx,100)],dim=1).float().to(device)\n",
        "\n",
        "print(ginput_test)\n",
        "print(ginput_test.shape)"
      ]
    },
    {
      "cell_type": "markdown",
      "source": [
        "Plot generated bacterial motility"
      ],
      "metadata": {
        "id": "ZoCRHgV2Wo70"
      },
      "id": "ZoCRHgV2Wo70"
    },
    {
      "cell_type": "code",
      "execution_count": null,
      "id": "5219fd7b",
      "metadata": {
        "scrolled": false,
        "id": "5219fd7b",
        "outputId": "330cfd3c-52e2-4a57-cc8f-de6af04a7c53"
      },
      "outputs": [
        {
          "data": {
            "text/plain": [
              "<Figure size 360x504 with 0 Axes>"
            ]
          },
          "metadata": {},
          "output_type": "display_data"
        },
        {
          "data": {
            "text/plain": [
              "<Figure size 432x288 with 0 Axes>"
            ]
          },
          "metadata": {},
          "output_type": "display_data"
        },
        {
          "data": {
            "image/png": "[encoded data removed]",
            "text/plain": [
              "<Figure size 432x288 with 1 Axes>"
            ]
          },
          "metadata": {
            "needs_background": "light"
          },
          "output_type": "display_data"
        },
        {
          "data": {
            "image/png": "[encoded data removed]",
            "text/plain": [
              "<Figure size 432x288 with 1 Axes>"
            ]
          },
          "metadata": {
            "needs_background": "light"
          },
          "output_type": "display_data"
        }
      ],
      "source": [
        "\n",
        "name = [\"Inst Velocity\",\"Angular Velocity\",\"Path\",\"Displacement\",\"Directionality\",\"Moving Time\",\"Average Velocity\",\"Tumbling Frequency\",\"Running Velocity\",\"Tumbling Angular Vel\"]\n",
        "\n",
        "fig = plt.figure(figsize=(5.0,7))\n",
        "fig = plt.figure( constrained_layout=True)\n",
        "t = [4,8]\n",
        "for i in (t):\n",
        "    plt.figure()\n",
        "    sns.kdeplot(train_data_plot[:,i], bw=0.5,bw_adjust=.15, cut=0, label = 'ph6 37C', linewidth=3)\n",
        "    plt.draw()\n",
        "    plt.xlabel(str(i)+\" \"+name[i], labelpad=10)\n",
        "    plt.legend()\n"
      ]
    },
    {
      "cell_type": "code",
      "execution_count": null,
      "id": "e0756b48",
      "metadata": {
        "id": "e0756b48"
      },
      "outputs": [],
      "source": []
    }
  ],
  "metadata": {
    "kernelspec": {
      "display_name": "Python 3 (ipykernel)",
      "language": "python",
      "name": "python3"
    },
    "language_info": {
      "codemirror_mode": {
        "name": "ipython",
        "version": 3
      },
      "file_extension": ".py",
      "mimetype": "text/x-python",
      "name": "python",
      "nbconvert_exporter": "python",
      "pygments_lexer": "ipython3",
      "version": "3.7.10"
    },
    "colab": {
      "provenance": [],
      "include_colab_link": true
    }
  },
  "nbformat": 4,
  "nbformat_minor": 5
}